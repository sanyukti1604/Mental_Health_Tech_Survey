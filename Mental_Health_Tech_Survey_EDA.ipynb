{
  "cells": [
    {
      "cell_type": "code",
      "execution_count": null,
      "metadata": {
        "id": "I1apcow5dxii"
      },
      "outputs": [],
      "source": []
    },
    {
      "cell_type": "markdown",
      "metadata": {
        "id": "vncDsAP0Gaoa"
      },
      "source": [
        "# **Project Name**    - Mental Health in Tech Survey\n",
        "\n"
      ]
    },
    {
      "cell_type": "markdown",
      "metadata": {
        "id": "beRrZCGUAJYm"
      },
      "source": [
        "##### **Project Type**    - EDA\n",
        "##### **Contribution**    - Individual\n",
        "##### **Team Member 1 -**\n",
        "##### **Team Member 2 -**\n",
        "##### **Team Member 3 -**\n",
        "##### **Team Member 4 -**"
      ]
    },
    {
      "cell_type": "markdown",
      "metadata": {
        "id": "FJNUwmbgGyua"
      },
      "source": [
        "# **Project Summary -**"
      ]
    },
    {
      "cell_type": "markdown",
      "metadata": {
        "id": "F6v_1wHtG2nS"
      },
      "source": [
        "Mental health has become a major topic of concern in today's fast-paced work environments, particularly within the tech industry. Long hours, tight deadlines, remote work isolation, and high expectations contribute to elevated stress and burnout. Despite growing awareness, many employees still hesitate to seek help due to stigma, lack of support, or fear of professional consequences.\n",
        "\n",
        "In this project, I analyzed real-world mental health survey data focused on employees in the tech sector. The dataset includes information such as age, gender, state, company size, remote work status, history of mental illness, treatment, and whether the company provides mental health support. The goal is to identify patterns, explore gaps in support, and recommend actionable strategies for companies.\n",
        "\n",
        "Mental health has become an increasingly important concern in the modern workplace, especially in the high-stress environment of the tech industry. This project explores how mental health is handled in tech jobs, using survey data that includes employee demographics, workplace policies, and treatment patterns. The primary aim is to identify key factors that influence whether employees seek help for mental health challenges and to assess how well companies are supporting their workers' psychological well-being.\n",
        "\n",
        "The dataset used for this analysis includes information such as employee age, gender, state, self-employment status, family history of mental illness, treatment history, work interference, company size, remote work options, mental health benefits, and willingness to talk to supervisors or coworkers. Using Python and data visualization tools like Matplotlib and Seaborn, various patterns and correlations were discovered that shed light on how mental health is being addressed in the tech sector.\n",
        "Mental health is an essential aspect of overall employee well-being, yet it often receives less attention in the corporate world, especially in the high-pressure environment of the tech industry. Professionals in tech roles face unique challenges such as long working hours, frequent remote work, intense deadlines, and high expectations — all of which can contribute to mental health issues like anxiety, depression, or burnout.\n",
        "This project aims to explore how mental health issues are handled in tech jobs, using real-world survey data. It focuses on analyzing how workplace factors such as company policies, benefits, openness, and work culture influence whether employees feel safe discussing mental health or seeking treatment.\n",
        "\n",
        "\n"
      ]
    },
    {
      "cell_type": "markdown",
      "metadata": {
        "id": "w6K7xa23Elo4"
      },
      "source": [
        "# **GitHub Link -**"
      ]
    },
    {
      "cell_type": "markdown",
      "metadata": {
        "id": "h1o69JH3Eqqn"
      },
      "source": [
        "Provide your GitHub Link here."
      ]
    },
    {
      "cell_type": "markdown",
      "metadata": {
        "id": "yQaldy8SH6Dl"
      },
      "source": [
        "# **Problem Statement**\n"
      ]
    },
    {
      "cell_type": "markdown",
      "metadata": {
        "id": "DpeJGUA3kjGy"
      },
      "source": [
        "The goal of this Exploratory Data Analysis (EDA) is to understand the mental health landscape in the tech industry by analyzing survey data related to employees' demographics, workplace support systems, and treatment-seeking behavior. Through visualizations and data exploration, this analysis aims to uncover patterns, correlations, and insights about how various factors—such as company size, remote work, gender, age, and mental health benefits—influence mental health outcomes and workplace openness."
      ]
    },
    {
      "cell_type": "markdown",
      "metadata": {
        "id": "PH-0ReGfmX4f"
      },
      "source": [
        "#### **Define Your Business Objective?**"
      ]
    },
    {
      "cell_type": "markdown",
      "metadata": {
        "id": "PhDvGCAqmjP1"
      },
      "source": [
        "Answer Here: The goal of this project is to help tech companies better understand how their employees are affected by mental health challenges—and how workplace policies and culture play a role in that.\n",
        "\n",
        "By exploring real survey data, we want to find out:\n",
        "\n",
        "What stops employees from asking for help when they’re struggling?\n",
        "\n",
        "Does having mental health benefits or flexible leave make a difference?\n",
        "\n",
        "Are people comfortable talking to their manager or coworkers about mental health?\n",
        "\n",
        "How do factors like remote work, company size, or age affect someone's experience?\n",
        "\n",
        "The idea is to use these insights to help companies create a healthier and more supportive work environment—where employees feel safe, valued, and encouraged to take care of their mental well-being.\n",
        "When companies take mental health seriously, it leads to happier teams, better work performance, and lower turnover. This project aims to show how data can guide smart decisions that truly support people at work.\n",
        "\n"
      ]
    },
    {
      "cell_type": "markdown",
      "metadata": {
        "id": "mDgbUHAGgjLW"
      },
      "source": [
        "# **General Guidelines** : -  "
      ]
    },
    {
      "cell_type": "markdown",
      "metadata": {
        "id": "ZrxVaUj-hHfC"
      },
      "source": [
        "1.   Well-structured, formatted, and commented code is required.\n",
        "2.   Exception Handling, Production Grade Code & Deployment Ready Code will be a plus. Those students will be awarded some additional credits.\n",
        "     \n",
        "     The additional credits will have advantages over other students during Star Student selection.\n",
        "       \n",
        "             [ Note: - Deployment Ready Code is defined as, the whole .ipynb notebook should be executable in one go\n",
        "                       without a single error logged. ]\n",
        "\n",
        "3.   Each and every logic should have proper comments.\n",
        "4. You may add as many number of charts you want. Make Sure for each and every chart the following format should be answered.\n",
        "        \n",
        "\n",
        "```\n",
        "# Chart visualization code\n",
        "```\n",
        "            \n",
        "\n",
        "*   Why did you pick the specific chart?\n",
        "*   What is/are the insight(s) found from the chart?\n",
        "* Will the gained insights help creating a positive business impact?\n",
        "Are there any insights that lead to negative growth? Justify with specific reason.\n",
        "\n",
        "5. You have to create at least 20 logical & meaningful charts having important insights.\n",
        "\n",
        "\n",
        "[ Hints : - Do the Vizualization in  a structured way while following \"UBM\" Rule.\n",
        "\n",
        "U - Univariate Analysis,\n",
        "\n",
        "B - Bivariate Analysis (Numerical - Categorical, Numerical - Numerical, Categorical - Categorical)\n",
        "\n",
        "M - Multivariate Analysis\n",
        " ]\n",
        "\n",
        "\n",
        "\n"
      ]
    },
    {
      "cell_type": "markdown",
      "metadata": {
        "id": "O_i_v8NEhb9l"
      },
      "source": [
        "# ***Let's Begin !***"
      ]
    },
    {
      "cell_type": "markdown",
      "metadata": {
        "id": "HhfV-JJviCcP"
      },
      "source": [
        "## ***1. Know Your Data***"
      ]
    },
    {
      "cell_type": "markdown",
      "metadata": {
        "id": "Y3lxredqlCYt"
      },
      "source": [
        "### Import Libraries"
      ]
    },
    {
      "cell_type": "code",
      "execution_count": 5,
      "metadata": {
        "id": "M8Vqi-pPk-HR"
      },
      "outputs": [
        {
          "name": "stdout",
          "output_type": "stream",
          "text": [
            "Defaulting to user installation because normal site-packages is not writeable\n",
            "Requirement already satisfied: Pandas in c:\\users\\shrut\\appdata\\roaming\\python\\python313\\site-packages (2.3.0)\n",
            "Requirement already satisfied: matplotlib in c:\\users\\shrut\\appdata\\roaming\\python\\python313\\site-packages (3.10.3)\n",
            "Requirement already satisfied: seaborn in c:\\users\\shrut\\appdata\\roaming\\python\\python313\\site-packages (0.13.2)\n",
            "Requirement already satisfied: numpy in c:\\users\\shrut\\appdata\\roaming\\python\\python313\\site-packages (2.2.6)\n",
            "Requirement already satisfied: python-dateutil>=2.8.2 in c:\\users\\shrut\\appdata\\roaming\\python\\python313\\site-packages (from Pandas) (2.9.0.post0)\n",
            "Requirement already satisfied: pytz>=2020.1 in c:\\users\\shrut\\appdata\\roaming\\python\\python313\\site-packages (from Pandas) (2025.2)\n",
            "Requirement already satisfied: tzdata>=2022.7 in c:\\users\\shrut\\appdata\\roaming\\python\\python313\\site-packages (from Pandas) (2025.2)\n",
            "Requirement already satisfied: contourpy>=1.0.1 in c:\\users\\shrut\\appdata\\roaming\\python\\python313\\site-packages (from matplotlib) (1.3.2)\n",
            "Requirement already satisfied: cycler>=0.10 in c:\\users\\shrut\\appdata\\roaming\\python\\python313\\site-packages (from matplotlib) (0.12.1)\n",
            "Requirement already satisfied: fonttools>=4.22.0 in c:\\users\\shrut\\appdata\\roaming\\python\\python313\\site-packages (from matplotlib) (4.58.2)\n",
            "Requirement already satisfied: kiwisolver>=1.3.1 in c:\\users\\shrut\\appdata\\roaming\\python\\python313\\site-packages (from matplotlib) (1.4.8)\n",
            "Requirement already satisfied: packaging>=20.0 in c:\\users\\shrut\\appdata\\roaming\\python\\python313\\site-packages (from matplotlib) (25.0)\n",
            "Requirement already satisfied: pillow>=8 in c:\\users\\shrut\\appdata\\roaming\\python\\python313\\site-packages (from matplotlib) (11.2.1)\n",
            "Requirement already satisfied: pyparsing>=2.3.1 in c:\\users\\shrut\\appdata\\roaming\\python\\python313\\site-packages (from matplotlib) (3.2.3)\n",
            "Requirement already satisfied: six>=1.5 in c:\\users\\shrut\\appdata\\roaming\\python\\python313\\site-packages (from python-dateutil>=2.8.2->Pandas) (1.17.0)\n"
          ]
        }
      ],
      "source": [
        "# Import Libraries \n",
        "! pip install Pandas matplotlib seaborn numpy\n",
        "import pandas as pd   \n",
        "import matplotlib.pyplot as plt\n",
        "import seaborn as sns  "
      ]
    },
    {
      "cell_type": "markdown",
      "metadata": {
        "id": "3RnN4peoiCZX"
      },
      "source": [
        "### Dataset Loading"
      ]
    },
    {
      "cell_type": "code",
      "execution_count": 7,
      "metadata": {
        "id": "4CkvbW_SlZ_R"
      },
      "outputs": [],
      "source": [
        "# Load Dataset \n",
        "df = pd.read_csv(\"Mental_health_data.csv\")\n",
        " "
      ]
    },
    {
      "cell_type": "markdown",
      "metadata": {
        "id": "x71ZqKXriCWQ"
      },
      "source": [
        "### Dataset First View"
      ]
    },
    {
      "cell_type": "code",
      "execution_count": 8,
      "metadata": {
        "id": "LWNFOSvLl09H"
      },
      "outputs": [
        {
          "data": {
            "text/html": [
              "<div>\n",
              "<style scoped>\n",
              "    .dataframe tbody tr th:only-of-type {\n",
              "        vertical-align: middle;\n",
              "    }\n",
              "\n",
              "    .dataframe tbody tr th {\n",
              "        vertical-align: top;\n",
              "    }\n",
              "\n",
              "    .dataframe thead th {\n",
              "        text-align: right;\n",
              "    }\n",
              "</style>\n",
              "<table border=\"1\" class=\"dataframe\">\n",
              "  <thead>\n",
              "    <tr style=\"text-align: right;\">\n",
              "      <th></th>\n",
              "      <th>Timestamp</th>\n",
              "      <th>Age</th>\n",
              "      <th>Gender</th>\n",
              "      <th>Country</th>\n",
              "      <th>state</th>\n",
              "      <th>self_employed</th>\n",
              "      <th>family_history</th>\n",
              "      <th>treatment</th>\n",
              "      <th>work_interfere</th>\n",
              "      <th>no_employees</th>\n",
              "      <th>...</th>\n",
              "      <th>leave</th>\n",
              "      <th>mental_health_consequence</th>\n",
              "      <th>phys_health_consequence</th>\n",
              "      <th>coworkers</th>\n",
              "      <th>supervisor</th>\n",
              "      <th>mental_health_interview</th>\n",
              "      <th>phys_health_interview</th>\n",
              "      <th>mental_vs_physical</th>\n",
              "      <th>obs_consequence</th>\n",
              "      <th>comments</th>\n",
              "    </tr>\n",
              "  </thead>\n",
              "  <tbody>\n",
              "    <tr>\n",
              "      <th>0</th>\n",
              "      <td>2014-08-27 11:29:31</td>\n",
              "      <td>37</td>\n",
              "      <td>Female</td>\n",
              "      <td>United States</td>\n",
              "      <td>IL</td>\n",
              "      <td>NaN</td>\n",
              "      <td>No</td>\n",
              "      <td>Yes</td>\n",
              "      <td>Often</td>\n",
              "      <td>6-25</td>\n",
              "      <td>...</td>\n",
              "      <td>Somewhat easy</td>\n",
              "      <td>No</td>\n",
              "      <td>No</td>\n",
              "      <td>Some of them</td>\n",
              "      <td>Yes</td>\n",
              "      <td>No</td>\n",
              "      <td>Maybe</td>\n",
              "      <td>Yes</td>\n",
              "      <td>No</td>\n",
              "      <td>NaN</td>\n",
              "    </tr>\n",
              "    <tr>\n",
              "      <th>1</th>\n",
              "      <td>2014-08-27 11:29:37</td>\n",
              "      <td>44</td>\n",
              "      <td>M</td>\n",
              "      <td>United States</td>\n",
              "      <td>IN</td>\n",
              "      <td>NaN</td>\n",
              "      <td>No</td>\n",
              "      <td>No</td>\n",
              "      <td>Rarely</td>\n",
              "      <td>More than 1000</td>\n",
              "      <td>...</td>\n",
              "      <td>Don't know</td>\n",
              "      <td>Maybe</td>\n",
              "      <td>No</td>\n",
              "      <td>No</td>\n",
              "      <td>No</td>\n",
              "      <td>No</td>\n",
              "      <td>No</td>\n",
              "      <td>Don't know</td>\n",
              "      <td>No</td>\n",
              "      <td>NaN</td>\n",
              "    </tr>\n",
              "    <tr>\n",
              "      <th>2</th>\n",
              "      <td>2014-08-27 11:29:44</td>\n",
              "      <td>32</td>\n",
              "      <td>Male</td>\n",
              "      <td>Canada</td>\n",
              "      <td>NaN</td>\n",
              "      <td>NaN</td>\n",
              "      <td>No</td>\n",
              "      <td>No</td>\n",
              "      <td>Rarely</td>\n",
              "      <td>6-25</td>\n",
              "      <td>...</td>\n",
              "      <td>Somewhat difficult</td>\n",
              "      <td>No</td>\n",
              "      <td>No</td>\n",
              "      <td>Yes</td>\n",
              "      <td>Yes</td>\n",
              "      <td>Yes</td>\n",
              "      <td>Yes</td>\n",
              "      <td>No</td>\n",
              "      <td>No</td>\n",
              "      <td>NaN</td>\n",
              "    </tr>\n",
              "    <tr>\n",
              "      <th>3</th>\n",
              "      <td>2014-08-27 11:29:46</td>\n",
              "      <td>31</td>\n",
              "      <td>Male</td>\n",
              "      <td>United Kingdom</td>\n",
              "      <td>NaN</td>\n",
              "      <td>NaN</td>\n",
              "      <td>Yes</td>\n",
              "      <td>Yes</td>\n",
              "      <td>Often</td>\n",
              "      <td>26-100</td>\n",
              "      <td>...</td>\n",
              "      <td>Somewhat difficult</td>\n",
              "      <td>Yes</td>\n",
              "      <td>Yes</td>\n",
              "      <td>Some of them</td>\n",
              "      <td>No</td>\n",
              "      <td>Maybe</td>\n",
              "      <td>Maybe</td>\n",
              "      <td>No</td>\n",
              "      <td>Yes</td>\n",
              "      <td>NaN</td>\n",
              "    </tr>\n",
              "    <tr>\n",
              "      <th>4</th>\n",
              "      <td>2014-08-27 11:30:22</td>\n",
              "      <td>31</td>\n",
              "      <td>Male</td>\n",
              "      <td>United States</td>\n",
              "      <td>TX</td>\n",
              "      <td>NaN</td>\n",
              "      <td>No</td>\n",
              "      <td>No</td>\n",
              "      <td>Never</td>\n",
              "      <td>100-500</td>\n",
              "      <td>...</td>\n",
              "      <td>Don't know</td>\n",
              "      <td>No</td>\n",
              "      <td>No</td>\n",
              "      <td>Some of them</td>\n",
              "      <td>Yes</td>\n",
              "      <td>Yes</td>\n",
              "      <td>Yes</td>\n",
              "      <td>Don't know</td>\n",
              "      <td>No</td>\n",
              "      <td>NaN</td>\n",
              "    </tr>\n",
              "  </tbody>\n",
              "</table>\n",
              "<p>5 rows × 27 columns</p>\n",
              "</div>"
            ],
            "text/plain": [
              "             Timestamp  Age  Gender         Country state self_employed  \\\n",
              "0  2014-08-27 11:29:31   37  Female   United States    IL           NaN   \n",
              "1  2014-08-27 11:29:37   44       M   United States    IN           NaN   \n",
              "2  2014-08-27 11:29:44   32    Male          Canada   NaN           NaN   \n",
              "3  2014-08-27 11:29:46   31    Male  United Kingdom   NaN           NaN   \n",
              "4  2014-08-27 11:30:22   31    Male   United States    TX           NaN   \n",
              "\n",
              "  family_history treatment work_interfere    no_employees  ...  \\\n",
              "0             No       Yes          Often            6-25  ...   \n",
              "1             No        No         Rarely  More than 1000  ...   \n",
              "2             No        No         Rarely            6-25  ...   \n",
              "3            Yes       Yes          Often          26-100  ...   \n",
              "4             No        No          Never         100-500  ...   \n",
              "\n",
              "                leave mental_health_consequence phys_health_consequence  \\\n",
              "0       Somewhat easy                        No                      No   \n",
              "1          Don't know                     Maybe                      No   \n",
              "2  Somewhat difficult                        No                      No   \n",
              "3  Somewhat difficult                       Yes                     Yes   \n",
              "4          Don't know                        No                      No   \n",
              "\n",
              "      coworkers supervisor mental_health_interview phys_health_interview  \\\n",
              "0  Some of them        Yes                      No                 Maybe   \n",
              "1            No         No                      No                    No   \n",
              "2           Yes        Yes                     Yes                   Yes   \n",
              "3  Some of them         No                   Maybe                 Maybe   \n",
              "4  Some of them        Yes                     Yes                   Yes   \n",
              "\n",
              "  mental_vs_physical obs_consequence comments  \n",
              "0                Yes              No      NaN  \n",
              "1         Don't know              No      NaN  \n",
              "2                 No              No      NaN  \n",
              "3                 No             Yes      NaN  \n",
              "4         Don't know              No      NaN  \n",
              "\n",
              "[5 rows x 27 columns]"
            ]
          },
          "execution_count": 8,
          "metadata": {},
          "output_type": "execute_result"
        }
      ],
      "source": [
        "# Dataset First Look  \n",
        "df.head()"
      ]
    },
    {
      "cell_type": "markdown",
      "metadata": {
        "id": "7hBIi_osiCS2"
      },
      "source": [
        "### Dataset Rows & Columns count"
      ]
    },
    {
      "cell_type": "code",
      "execution_count": 9,
      "metadata": {
        "id": "Kllu7SJgmLij"
      },
      "outputs": [
        {
          "data": {
            "text/plain": [
              "(1259, 27)"
            ]
          },
          "execution_count": 9,
          "metadata": {},
          "output_type": "execute_result"
        }
      ],
      "source": [
        "# Dataset Rows & Columns count\n",
        "\n",
        "df.shape  "
      ]
    },
    {
      "cell_type": "markdown",
      "metadata": {
        "id": "JlHwYmJAmNHm"
      },
      "source": [
        "### Dataset Information"
      ]
    },
    {
      "cell_type": "code",
      "execution_count": 10,
      "metadata": {
        "id": "e9hRXRi6meOf"
      },
      "outputs": [
        {
          "name": "stdout",
          "output_type": "stream",
          "text": [
            "<class 'pandas.core.frame.DataFrame'>\n",
            "RangeIndex: 1259 entries, 0 to 1258\n",
            "Data columns (total 27 columns):\n",
            " #   Column                     Non-Null Count  Dtype \n",
            "---  ------                     --------------  ----- \n",
            " 0   Timestamp                  1259 non-null   object\n",
            " 1   Age                        1259 non-null   int64 \n",
            " 2   Gender                     1259 non-null   object\n",
            " 3   Country                    1259 non-null   object\n",
            " 4   state                      744 non-null    object\n",
            " 5   self_employed              1241 non-null   object\n",
            " 6   family_history             1259 non-null   object\n",
            " 7   treatment                  1259 non-null   object\n",
            " 8   work_interfere             995 non-null    object\n",
            " 9   no_employees               1259 non-null   object\n",
            " 10  remote_work                1259 non-null   object\n",
            " 11  tech_company               1259 non-null   object\n",
            " 12  benefits                   1259 non-null   object\n",
            " 13  care_options               1259 non-null   object\n",
            " 14  wellness_program           1259 non-null   object\n",
            " 15  seek_help                  1259 non-null   object\n",
            " 16  anonymity                  1259 non-null   object\n",
            " 17  leave                      1259 non-null   object\n",
            " 18  mental_health_consequence  1259 non-null   object\n",
            " 19  phys_health_consequence    1259 non-null   object\n",
            " 20  coworkers                  1259 non-null   object\n",
            " 21  supervisor                 1259 non-null   object\n",
            " 22  mental_health_interview    1259 non-null   object\n",
            " 23  phys_health_interview      1259 non-null   object\n",
            " 24  mental_vs_physical         1259 non-null   object\n",
            " 25  obs_consequence            1259 non-null   object\n",
            " 26  comments                   164 non-null    object\n",
            "dtypes: int64(1), object(26)\n",
            "memory usage: 265.7+ KB\n"
          ]
        }
      ],
      "source": [
        "# Dataset Info  \n",
        "df.info()   "
      ]
    },
    {
      "cell_type": "markdown",
      "metadata": {
        "id": "35m5QtbWiB9F"
      },
      "source": [
        "#### Duplicate Values"
      ]
    },
    {
      "cell_type": "code",
      "execution_count": 11,
      "metadata": {
        "id": "1sLdpKYkmox0"
      },
      "outputs": [
        {
          "data": {
            "text/plain": [
              "(1259, 27)"
            ]
          },
          "execution_count": 11,
          "metadata": {},
          "output_type": "execute_result"
        }
      ],
      "source": [
        "# Dataset Duplicate Value Count\n",
        "df = df.drop_duplicates()\n",
        "\n",
        "df.shape\n",
        "\n"
      ]
    },
    {
      "cell_type": "markdown",
      "metadata": {
        "id": "PoPl-ycgm1ru"
      },
      "source": [
        "#### Missing Values/Null Values"
      ]
    },
    {
      "cell_type": "code",
      "execution_count": 12,
      "metadata": {
        "id": "GgHWkxvamxVg"
      },
      "outputs": [
        {
          "data": {
            "text/plain": [
              "Timestamp                       0\n",
              "Age                             0\n",
              "Gender                          0\n",
              "Country                         0\n",
              "state                         515\n",
              "self_employed                  18\n",
              "family_history                  0\n",
              "treatment                       0\n",
              "work_interfere                264\n",
              "no_employees                    0\n",
              "remote_work                     0\n",
              "tech_company                    0\n",
              "benefits                        0\n",
              "care_options                    0\n",
              "wellness_program                0\n",
              "seek_help                       0\n",
              "anonymity                       0\n",
              "leave                           0\n",
              "mental_health_consequence       0\n",
              "phys_health_consequence         0\n",
              "coworkers                       0\n",
              "supervisor                      0\n",
              "mental_health_interview         0\n",
              "phys_health_interview           0\n",
              "mental_vs_physical              0\n",
              "obs_consequence                 0\n",
              "comments                     1095\n",
              "dtype: int64"
            ]
          },
          "execution_count": 12,
          "metadata": {},
          "output_type": "execute_result"
        }
      ],
      "source": [
        "# Missing Values/Null Values Count  \n",
        "df.isnull().sum()"
      ]
    },
    {
      "cell_type": "code",
      "execution_count": 13,
      "metadata": {
        "id": "3q5wnI3om9sJ"
      },
      "outputs": [
        {
          "name": "stdout",
          "output_type": "stream",
          "text": [
            "Defaulting to user installation because normal site-packages is not writeable\n",
            "Requirement already satisfied: missingno in c:\\users\\shrut\\appdata\\roaming\\python\\python313\\site-packages (0.5.2)\n",
            "Requirement already satisfied: numpy in c:\\users\\shrut\\appdata\\roaming\\python\\python313\\site-packages (from missingno) (2.2.6)\n",
            "Requirement already satisfied: matplotlib in c:\\users\\shrut\\appdata\\roaming\\python\\python313\\site-packages (from missingno) (3.10.3)\n",
            "Requirement already satisfied: scipy in c:\\users\\shrut\\appdata\\roaming\\python\\python313\\site-packages (from missingno) (1.15.3)\n",
            "Requirement already satisfied: seaborn in c:\\users\\shrut\\appdata\\roaming\\python\\python313\\site-packages (from missingno) (0.13.2)\n",
            "Requirement already satisfied: contourpy>=1.0.1 in c:\\users\\shrut\\appdata\\roaming\\python\\python313\\site-packages (from matplotlib->missingno) (1.3.2)\n",
            "Requirement already satisfied: cycler>=0.10 in c:\\users\\shrut\\appdata\\roaming\\python\\python313\\site-packages (from matplotlib->missingno) (0.12.1)\n",
            "Requirement already satisfied: fonttools>=4.22.0 in c:\\users\\shrut\\appdata\\roaming\\python\\python313\\site-packages (from matplotlib->missingno) (4.58.2)\n",
            "Requirement already satisfied: kiwisolver>=1.3.1 in c:\\users\\shrut\\appdata\\roaming\\python\\python313\\site-packages (from matplotlib->missingno) (1.4.8)\n",
            "Requirement already satisfied: packaging>=20.0 in c:\\users\\shrut\\appdata\\roaming\\python\\python313\\site-packages (from matplotlib->missingno) (25.0)\n",
            "Requirement already satisfied: pillow>=8 in c:\\users\\shrut\\appdata\\roaming\\python\\python313\\site-packages (from matplotlib->missingno) (11.2.1)\n",
            "Requirement already satisfied: pyparsing>=2.3.1 in c:\\users\\shrut\\appdata\\roaming\\python\\python313\\site-packages (from matplotlib->missingno) (3.2.3)\n",
            "Requirement already satisfied: python-dateutil>=2.7 in c:\\users\\shrut\\appdata\\roaming\\python\\python313\\site-packages (from matplotlib->missingno) (2.9.0.post0)\n",
            "Requirement already satisfied: six>=1.5 in c:\\users\\shrut\\appdata\\roaming\\python\\python313\\site-packages (from python-dateutil>=2.7->matplotlib->missingno) (1.17.0)\n",
            "Requirement already satisfied: pandas>=1.2 in c:\\users\\shrut\\appdata\\roaming\\python\\python313\\site-packages (from seaborn->missingno) (2.3.0)\n",
            "Requirement already satisfied: pytz>=2020.1 in c:\\users\\shrut\\appdata\\roaming\\python\\python313\\site-packages (from pandas>=1.2->seaborn->missingno) (2025.2)\n",
            "Requirement already satisfied: tzdata>=2022.7 in c:\\users\\shrut\\appdata\\roaming\\python\\python313\\site-packages (from pandas>=1.2->seaborn->missingno) (2025.2)\n"
          ]
        },
        {
          "data": {
            "text/plain": [
              "<Axes: >"
            ]
          },
          "execution_count": 13,
          "metadata": {},
          "output_type": "execute_result"
        },
        {
          "data": {
            "image/png": "[encoded data removed]",
            "text/plain": [
              "<Figure size 2500x1000 with 2 Axes>"
            ]
          },
          "metadata": {},
          "output_type": "display_data"
        }
      ],
      "source": [
        "# Visualizing the missing values   \n",
        "! pip install missingno   \n",
        "import missingno as msno \n",
        "msno.matrix(df)"
      ]
    },
    {
      "cell_type": "markdown",
      "metadata": {
        "id": "H0kj-8xxnORC"
      },
      "source": [
        "### What did you know about your dataset?"
      ]
    },
    {
      "cell_type": "markdown",
      "metadata": {
        "id": "gfoNAAC-nUe_"
      },
      "source": [
        "Answer Here:    This dataset is based on a survey of people working in the tech industry and aims to understand how mental health is treated at the workplace. It includes responses from employees across different countries and job roles.\n",
        "\n",
        "Each row in the dataset represents one person’s experience or opinion related to mental health at work.\n",
        "Here’s what we get from the dataset:\n",
        "\n",
        "It tells us whether someone has received treatment for mental health issues.\n",
        "\n",
        "It shows if their company provides mental health benefits or not.\n",
        "\n",
        "It captures how comfortable they feel discussing mental health with supervisors or coworkers.\n",
        "\n",
        "It includes details like age, gender, employment status, workplace size, and whether they work remotely.\n",
        "Some columns also ask how mental health affects their work and if it has career consequences.\n",
        "\n",
        "There are around 25 columns, and the most important ones for analysis include:\n",
        "\n",
        "treatment: whether the person has sought mental health treatment\n",
        "\n",
        "benefits: does the company offer mental health benefits\n",
        "\n",
        "work_interfere: how often mental health interferes with work\n",
        "\n",
        "leave: ease of taking time off for mental health\n",
        "\n",
        "supervisor, coworkers: comfort discussing mental health at work\n",
        "\n",
        "anonymity: is it anonymous to ask for help?\n",
        "\n",
        "The goal of analyzing this data is to find patterns and insights that can help tech companies better support employee mental health through policy, culture, and openness."
      ]
    },
    {
      "cell_type": "markdown",
      "metadata": {
        "id": "nA9Y7ga8ng1Z"
      },
      "source": [
        "## ***2. Understanding Your Variables***"
      ]
    },
    {
      "cell_type": "code",
      "execution_count": 14,
      "metadata": {
        "id": "j7xfkqrt5Ag5"
      },
      "outputs": [
        {
          "data": {
            "text/plain": [
              "['Timestamp',\n",
              " 'Age',\n",
              " 'Gender',\n",
              " 'Country',\n",
              " 'state',\n",
              " 'self_employed',\n",
              " 'family_history',\n",
              " 'treatment',\n",
              " 'work_interfere',\n",
              " 'no_employees',\n",
              " 'remote_work',\n",
              " 'tech_company',\n",
              " 'benefits',\n",
              " 'care_options',\n",
              " 'wellness_program',\n",
              " 'seek_help',\n",
              " 'anonymity',\n",
              " 'leave',\n",
              " 'mental_health_consequence',\n",
              " 'phys_health_consequence',\n",
              " 'coworkers',\n",
              " 'supervisor',\n",
              " 'mental_health_interview',\n",
              " 'phys_health_interview',\n",
              " 'mental_vs_physical',\n",
              " 'obs_consequence',\n",
              " 'comments']"
            ]
          },
          "execution_count": 14,
          "metadata": {},
          "output_type": "execute_result"
        }
      ],
      "source": [
        "# Dataset Columns  \n",
        "# List all columns in the dataset\n",
        "df.columns.tolist()\n",
        "\n",
        "\n"
      ]
    },
    {
      "cell_type": "markdown",
      "metadata": {
        "id": "DnOaZdaE5Q5t"
      },
      "source": [
        "# Dataset Describe \n",
        "This dataset is a collection of survey responses focused on mental health in the workplace, specifically within the tech industry. Each row represents an individual’s answers to questions about their experience with mental health, both personally and within their work environment.\n",
        "\n",
        "The dataset includes information about the respondent’s age, gender, country of work, and employment status, along with a variety of factors that could impact mental well-being at work. These factors include whether the respondent has a family history of mental illness, whether they have sought treatment, and how much their mental health interferes with their work.\n",
        "\n",
        "It also explores workplace culture and support systems, such as:\n",
        "\n",
        "Whether the employer provides mental health benefits,\n",
        "\n",
        "If the company has wellness programs or care options,\n",
        "\n",
        "If the person feels comfortable discussing mental health with their coworkers or supervisors.\n",
        "\n",
        "Some questions even assess how mental health is perceived in comparison to physical health within the organization, and whether people fear facing negative consequences for speaking up.\n",
        "\n",
        "The goal of analyzing this dataset is to identify:\n",
        "\n",
        "How openly mental health is treated in tech workplaces,\n",
        "What support systems are present or missing,\n",
        "And whether these factors influence people to seek treatment or stay silent.\n",
        "In total, the dataset contains around 27 columns, offering a wide range of insights into both personal mental health status and organizational mental health support in the tech world."
      ]
    },
    {
      "cell_type": "markdown",
      "metadata": {
        "id": "PBTbrJXOngz2"
      },
      "source": [
        "### Variables Description\n"
      ]
    },
    {
      "cell_type": "markdown",
      "metadata": {},
      "source": [
        "Timestamp : Date and time of the response\n",
        "\n",
        "Age : Age of the respondent\n",
        "\n",
        "Gender : Gender identity\n",
        "\n",
        "Country : Country of residence\n",
        "\n",
        "state : U.S. state (if applicable)\n",
        "\n",
        "self_employed : Whether the respondent is self-employed\n",
        "\n",
        "family_history : Family history of mental illness\n",
        "\n",
        "treatment : Whether the person has sought mental health treatment\n",
        "\n",
        "work_interfere : How often mental health affects work\n",
        "\n",
        "no_employees : Size of the company\n",
        "\n",
        "remote_work : If the respondent works remotely\n",
        "\n",
        "tech_company : Whether the company is in the tech industry\n",
        "\n",
        "benefits : Availability of mental health benefits\n",
        "\n",
        "care_options : Availability of mental health care options\n",
        "\n",
        "wellness_program : Availability of wellness programs\n",
        "\n",
        "seek_help : Does the company encourage seeking help?\n",
        "\n",
        "anonymity : Is help-seeking anonymous?\n",
        "\n",
        "leave : Ease of taking mental health leave\n",
        "\n",
        "mental_health_consequence : Fear of negative consequences for speaking up\n",
        "\n",
        "phys_health_consequence : Same for physical health\n",
        "\n",
        "coworkers : Comfort talking to coworkers about mental health\n",
        "\n",
        "supervisor : Comfort talking to supervisors\n",
        "\n",
        "mental_health_interview : Comfort discussing mental health in interviews\n",
        "\n",
        "phys_health_interview : Comfort discussing physical health in interviews\n",
        "\n",
        "mental_vs_physical : Is mental health treated the same as physical\n",
        "\n",
        "obs_consequence : Observed negative consequences in others\n",
        "\n",
        "comments : Optional open-ended comments (free text)  "
      ]
    },
    {
      "cell_type": "markdown",
      "metadata": {
        "id": "u3PMJOP6ngxN"
      },
      "source": [
        "### Check Unique Values for each variable."
      ]
    },
    {
      "cell_type": "code",
      "execution_count": 15,
      "metadata": {
        "id": "zms12Yq5n-jE"
      },
      "outputs": [
        {
          "data": {
            "text/plain": [
              "Timestamp                    1246\n",
              "Age                            53\n",
              "Gender                         49\n",
              "Country                        48\n",
              "state                          45\n",
              "self_employed                   2\n",
              "family_history                  2\n",
              "treatment                       2\n",
              "work_interfere                  4\n",
              "no_employees                    6\n",
              "remote_work                     2\n",
              "tech_company                    2\n",
              "benefits                        3\n",
              "care_options                    3\n",
              "wellness_program                3\n",
              "seek_help                       3\n",
              "anonymity                       3\n",
              "leave                           5\n",
              "mental_health_consequence       3\n",
              "phys_health_consequence         3\n",
              "coworkers                       3\n",
              "supervisor                      3\n",
              "mental_health_interview         3\n",
              "phys_health_interview           3\n",
              "mental_vs_physical              3\n",
              "obs_consequence                 2\n",
              "comments                      160\n",
              "dtype: int64"
            ]
          },
          "execution_count": 15,
          "metadata": {},
          "output_type": "execute_result"
        }
      ],
      "source": [
        "# Check Unique Values for each variable.\n",
        "df['Gender'].value_counts()\n",
        "df['treatment'].value_counts()\n",
        "df['Country'].value_counts()\n",
        "df['state'].value_counts()\n",
        "df['self_employed'].unique()\n",
        "df.nunique()\n",
        "\n",
        "\n"
      ]
    },
    {
      "cell_type": "markdown",
      "metadata": {
        "id": "dauF4eBmngu3"
      },
      "source": [
        "## 3. ***Data Wrangling***"
      ]
    },
    {
      "cell_type": "code",
      "execution_count": 17,
      "metadata": {
        "id": "bKJF3rekwFvQ"
      },
      "outputs": [
        {
          "data": {
            "text/html": [
              "<div>\n",
              "<style scoped>\n",
              "    .dataframe tbody tr th:only-of-type {\n",
              "        vertical-align: middle;\n",
              "    }\n",
              "\n",
              "    .dataframe tbody tr th {\n",
              "        vertical-align: top;\n",
              "    }\n",
              "\n",
              "    .dataframe thead th {\n",
              "        text-align: right;\n",
              "    }\n",
              "</style>\n",
              "<table border=\"1\" class=\"dataframe\">\n",
              "  <thead>\n",
              "    <tr style=\"text-align: right;\">\n",
              "      <th></th>\n",
              "      <th>Timestamp</th>\n",
              "      <th>Age</th>\n",
              "      <th>Gender</th>\n",
              "      <th>Country</th>\n",
              "      <th>state</th>\n",
              "      <th>self_employed</th>\n",
              "      <th>family_history</th>\n",
              "      <th>treatment</th>\n",
              "      <th>work_interfere</th>\n",
              "      <th>no_employees</th>\n",
              "      <th>...</th>\n",
              "      <th>leave</th>\n",
              "      <th>mental_health_consequence</th>\n",
              "      <th>phys_health_consequence</th>\n",
              "      <th>coworkers</th>\n",
              "      <th>supervisor</th>\n",
              "      <th>mental_health_interview</th>\n",
              "      <th>phys_health_interview</th>\n",
              "      <th>mental_vs_physical</th>\n",
              "      <th>obs_consequence</th>\n",
              "      <th>comments</th>\n",
              "    </tr>\n",
              "  </thead>\n",
              "  <tbody>\n",
              "    <tr>\n",
              "      <th>0</th>\n",
              "      <td>2014-08-27 11:29:31</td>\n",
              "      <td>37</td>\n",
              "      <td>Female</td>\n",
              "      <td>United States</td>\n",
              "      <td>IL</td>\n",
              "      <td>Unknown</td>\n",
              "      <td>No</td>\n",
              "      <td>Yes</td>\n",
              "      <td>Often</td>\n",
              "      <td>6-25</td>\n",
              "      <td>...</td>\n",
              "      <td>Somewhat easy</td>\n",
              "      <td>No</td>\n",
              "      <td>No</td>\n",
              "      <td>Some of them</td>\n",
              "      <td>Yes</td>\n",
              "      <td>No</td>\n",
              "      <td>Maybe</td>\n",
              "      <td>Yes</td>\n",
              "      <td>No</td>\n",
              "      <td>NaN</td>\n",
              "    </tr>\n",
              "    <tr>\n",
              "      <th>1</th>\n",
              "      <td>2014-08-27 11:29:37</td>\n",
              "      <td>44</td>\n",
              "      <td>Male</td>\n",
              "      <td>United States</td>\n",
              "      <td>IN</td>\n",
              "      <td>Unknown</td>\n",
              "      <td>No</td>\n",
              "      <td>No</td>\n",
              "      <td>Rarely</td>\n",
              "      <td>More than 1000</td>\n",
              "      <td>...</td>\n",
              "      <td>Don't know</td>\n",
              "      <td>Maybe</td>\n",
              "      <td>No</td>\n",
              "      <td>No</td>\n",
              "      <td>No</td>\n",
              "      <td>No</td>\n",
              "      <td>No</td>\n",
              "      <td>Don't know</td>\n",
              "      <td>No</td>\n",
              "      <td>NaN</td>\n",
              "    </tr>\n",
              "    <tr>\n",
              "      <th>2</th>\n",
              "      <td>2014-08-27 11:29:44</td>\n",
              "      <td>32</td>\n",
              "      <td>Male</td>\n",
              "      <td>Canada</td>\n",
              "      <td>NaN</td>\n",
              "      <td>Unknown</td>\n",
              "      <td>No</td>\n",
              "      <td>No</td>\n",
              "      <td>Rarely</td>\n",
              "      <td>6-25</td>\n",
              "      <td>...</td>\n",
              "      <td>Somewhat difficult</td>\n",
              "      <td>No</td>\n",
              "      <td>No</td>\n",
              "      <td>Yes</td>\n",
              "      <td>Yes</td>\n",
              "      <td>Yes</td>\n",
              "      <td>Yes</td>\n",
              "      <td>No</td>\n",
              "      <td>No</td>\n",
              "      <td>NaN</td>\n",
              "    </tr>\n",
              "    <tr>\n",
              "      <th>3</th>\n",
              "      <td>2014-08-27 11:29:46</td>\n",
              "      <td>31</td>\n",
              "      <td>Male</td>\n",
              "      <td>United Kingdom</td>\n",
              "      <td>NaN</td>\n",
              "      <td>Unknown</td>\n",
              "      <td>Yes</td>\n",
              "      <td>Yes</td>\n",
              "      <td>Often</td>\n",
              "      <td>26-100</td>\n",
              "      <td>...</td>\n",
              "      <td>Somewhat difficult</td>\n",
              "      <td>Yes</td>\n",
              "      <td>Yes</td>\n",
              "      <td>Some of them</td>\n",
              "      <td>No</td>\n",
              "      <td>Maybe</td>\n",
              "      <td>Maybe</td>\n",
              "      <td>No</td>\n",
              "      <td>Yes</td>\n",
              "      <td>NaN</td>\n",
              "    </tr>\n",
              "    <tr>\n",
              "      <th>4</th>\n",
              "      <td>2014-08-27 11:30:22</td>\n",
              "      <td>31</td>\n",
              "      <td>Male</td>\n",
              "      <td>United States</td>\n",
              "      <td>TX</td>\n",
              "      <td>Unknown</td>\n",
              "      <td>No</td>\n",
              "      <td>No</td>\n",
              "      <td>Never</td>\n",
              "      <td>100-500</td>\n",
              "      <td>...</td>\n",
              "      <td>Don't know</td>\n",
              "      <td>No</td>\n",
              "      <td>No</td>\n",
              "      <td>Some of them</td>\n",
              "      <td>Yes</td>\n",
              "      <td>Yes</td>\n",
              "      <td>Yes</td>\n",
              "      <td>Don't know</td>\n",
              "      <td>No</td>\n",
              "      <td>NaN</td>\n",
              "    </tr>\n",
              "  </tbody>\n",
              "</table>\n",
              "<p>5 rows × 27 columns</p>\n",
              "</div>"
            ],
            "text/plain": [
              "             Timestamp  Age  Gender         Country state self_employed  \\\n",
              "0  2014-08-27 11:29:31   37  Female   United States    IL       Unknown   \n",
              "1  2014-08-27 11:29:37   44    Male   United States    IN       Unknown   \n",
              "2  2014-08-27 11:29:44   32    Male          Canada   NaN       Unknown   \n",
              "3  2014-08-27 11:29:46   31    Male  United Kingdom   NaN       Unknown   \n",
              "4  2014-08-27 11:30:22   31    Male   United States    TX       Unknown   \n",
              "\n",
              "  family_history treatment work_interfere    no_employees  ...  \\\n",
              "0             No       Yes          Often            6-25  ...   \n",
              "1             No        No         Rarely  More than 1000  ...   \n",
              "2             No        No         Rarely            6-25  ...   \n",
              "3            Yes       Yes          Often          26-100  ...   \n",
              "4             No        No          Never         100-500  ...   \n",
              "\n",
              "                leave mental_health_consequence phys_health_consequence  \\\n",
              "0       Somewhat easy                        No                      No   \n",
              "1          Don't know                     Maybe                      No   \n",
              "2  Somewhat difficult                        No                      No   \n",
              "3  Somewhat difficult                       Yes                     Yes   \n",
              "4          Don't know                        No                      No   \n",
              "\n",
              "      coworkers supervisor mental_health_interview phys_health_interview  \\\n",
              "0  Some of them        Yes                      No                 Maybe   \n",
              "1            No         No                      No                    No   \n",
              "2           Yes        Yes                     Yes                   Yes   \n",
              "3  Some of them         No                   Maybe                 Maybe   \n",
              "4  Some of them        Yes                     Yes                   Yes   \n",
              "\n",
              "  mental_vs_physical obs_consequence comments  \n",
              "0                Yes              No      NaN  \n",
              "1         Don't know              No      NaN  \n",
              "2                 No              No      NaN  \n",
              "3                 No             Yes      NaN  \n",
              "4         Don't know              No      NaN  \n",
              "\n",
              "[5 rows x 27 columns]"
            ]
          },
          "execution_count": 17,
          "metadata": {},
          "output_type": "execute_result"
        }
      ],
      "source": [
        "### Data Wrangling Code\n",
        "#Objective:\n",
        "#To clean and prepare the data by handling missing values, fixing inconsistent entries, removing irrelevant columns, and filtering out outliers.\n",
        "df['work_interfere'] = df['work_interfere'].fillna('Unknown')\n",
        "df['self_employed'] = df['self_employed'].fillna('Unknown')\n",
        "\n",
        "#df = df.drop(['comments', 'state'], axis=1)\n",
        "\n",
        "df['Gender'] = df['Gender'].str.lower().str.strip()\n",
        "df['Gender'] = df['Gender'].replace({\n",
        "    'male': 'Male', 'm': 'Male', 'man': 'Male',\n",
        "    'female': 'Female', 'f': 'Female', 'woman': 'Female',\n",
        "    'non-binary': 'Non-binary', 'nb': 'Non-binary',\n",
        "    'trans-female': 'Trans', 'trans-male': 'Trans',\n",
        "    'other': 'Other'\n",
        "})\n",
        "\n",
        "df = df[(df['Age'] >= 16) & (df['Age'] <= 65)]\n",
        "\n",
        "df.head()"
      ]
    },
    {
      "cell_type": "markdown",
      "metadata": {
        "id": "MSa1f5Uengrz"
      },
      "source": [
        "### What all manipulations have you done and insights you found?"
      ]
    },
    {
      "cell_type": "markdown",
      "metadata": {
        "id": "LbyXE7I1olp8"
      },
      "source": [
        "Answer Here: Before we started analyzing, we made sure the data was clean and easy to work with:\n",
        "\n",
        "We filled missing answers in some columns like work_interfere and self_employed, replacing them with the word \"Unknown\" so we don’t lose valuable data.\n",
        "Some columns like comments and state were removed because they were either not useful or had too many blanks.\n",
        "The Gender column had a lot of confusing entries (like “M”, “male”, “femail”), so we cleaned and grouped them into clear categories: Male, Female, Non-binary, and Other.\n",
        "Some people entered strange values for age (like 5 or 200), so we filtered out unrealistic ages and kept only people between 16 to 65 years old, assuming these are working-age professionals.\n",
        "We also removed any duplicate entries, in case someone filled the survey more than once.\n",
        "\n",
        "Based on our cleaned data, here are some interesting and important things we found:\n",
        "\n",
        "Mental Health Matters at Work:\n",
        "A large number of people said they have either experienced mental health issues or received treatment. This shows that mental health is a serious concern in tech workplaces.\n",
        "\n",
        "It Affects Work:\n",
        "Many people mentioned that their mental health often interferes with their ability to work  which means it's not just a personal issue, but also a productivity issue for companies.\n",
        "\n",
        "Support Is Not Always Available:\n",
        "Not all companies offer mental health benefits, care options, or wellness programs, which shows there’s still a gap in how organizations support mental well-being.\n",
        "\n",
        "People Are Not Comfortable Speaking Up:\n",
        "A lot of employees don’t feel comfortable talking to their managers or coworkers about their mental health. Many fear that speaking up might lead to negative consequences in their career.\n",
        "\n",
        "Mental vs Physical Health:\n",
        "There’s a clear difference in how companies treat mental health vs physical health. People feel more confident talking about a physical problem than a mental one  this shows stigma still exists.\n",
        "\n",
        "Remote Workers Are Affected Too:\n",
        "Mental health issues are reported by people who work remotely as well. This tells us that remote work doesn’t protect people from stress, and companies need to support them too.\n",
        "\n"
      ]
    },
    {
      "cell_type": "markdown",
      "metadata": {
        "id": "GF8Ens_Soomf"
      },
      "source": [
        "## ***4. Data Vizualization, Storytelling & Experimenting with charts : Understand the relationships between variables***"
      ]
    },
    {
      "cell_type": "markdown",
      "metadata": {
        "id": "0wOQAZs5pc--"
      },
      "source": [
        "#### Chart - 1"
      ]
    },
    {
      "cell_type": "code",
      "execution_count": 18,
      "metadata": {
        "id": "7v_ESjsspbW7"
      },
      "outputs": [
        {
          "name": "stderr",
          "output_type": "stream",
          "text": [
            "C:\\Users\\shrut\\AppData\\Local\\Temp\\ipykernel_17488\\1869675296.py:4: FutureWarning: \n",
            "\n",
            "Passing `palette` without assigning `hue` is deprecated and will be removed in v0.14.0. Assign the `x` variable to `hue` and set `legend=False` for the same effect.\n",
            "\n",
            "  sns.countplot(x='treatment', data=df, palette='Set2')\n"
          ]
        },
        {
          "data": {
            "image/png": "[encoded data removed]",
            "text/plain": [
              "<Figure size 600x400 with 1 Axes>"
            ]
          },
          "metadata": {},
          "output_type": "display_data"
        }
      ],
      "source": [
        "# Chart - 1 visualization code \n",
        " #Treatment Seeking Behavior\n",
        "plt.figure(figsize=(6, 4))\n",
        "sns.countplot(x='treatment', data=df, palette='Set2')\n",
        "plt.title(\"Have You Sought Mental Health Treatment?\")\n",
        "plt.xlabel(\"Treatment\")\n",
        "plt.ylabel(\"Number of Respondents\")\n",
        "plt.tight_layout()\n",
        "plt.show()"
      ]
    },
    {
      "cell_type": "markdown",
      "metadata": {
        "id": "K5QZ13OEpz2H"
      },
      "source": [
        "##### 1. Why did you pick the specific chart?"
      ]
    },
    {
      "cell_type": "markdown",
      "metadata": {
        "id": "XESiWehPqBRc"
      },
      "source": [
        "Answer Here: I chose a bar chart (countplot) to show the treatment-seeking behavior because:\n",
        "\n",
        "The data in the treatment column contains categorical answers like “Yes” and “No” (people who have or haven’t sought mental health treatment).\n",
        "\n",
        "A bar chart is perfect when we want to compare the number of people who fall into each category.\n",
        "\n",
        "It makes it very easy to visually understand whether more people are seeking treatment or not.\n",
        "\n",
        "The height of the bars shows the frequency (how many people), which gives a clear view of the pattern in just one glance.\n",
        "\n"
      ]
    },
    {
      "cell_type": "markdown",
      "metadata": {
        "id": "lQ7QKXXCp7Bj"
      },
      "source": [
        "##### 2. What is/are the insight(s) found from the chart?"
      ]
    },
    {
      "cell_type": "markdown",
      "metadata": {
        "id": "C_j1G7yiqdRP"
      },
      "source": [
        "Answer Here : Most people in the survey have said “Yes” to getting mental health treatment.\n",
        "This means many people are aware of their mental health and are open to getting help, which is a good sign.\n",
        "\n",
        "But there are still some people who said “No” to treatment. This could be because of things like:\n",
        "\n",
        "Fear of being judged\n",
        "\n",
        "Not enough support at work\n",
        "\n",
        "They might not feel comfortable talking about mental health\n",
        "\n",
        "This tells us that while some employees are getting the help they need, others might still be struggling silently.\n",
        "Companies should take action by offering mental health support, so more employees feel safe and supported."
      ]
    },
    {
      "cell_type": "markdown",
      "metadata": {
        "id": "448CDAPjqfQr"
      },
      "source": [
        "##### 3. Will the gained insights help creating a positive business impact?\n",
        "Are there any insights that lead to negative growth? Justify with specific reason."
      ]
    },
    {
      "cell_type": "markdown",
      "metadata": {
        "id": "3cspy4FjqxJW"
      },
      "source": [
        "Answer Here : Yes, these insights can help companies understand where employees are struggling and give them a chance to improve support. This will lead to happier teams, better performance, and a healthier work culture  which is good for both employees and the business."
      ]
    },
    {
      "cell_type": "markdown",
      "metadata": {
        "id": "KSlN3yHqYklG"
      },
      "source": [
        "#### Chart - 2"
      ]
    },
    {
      "cell_type": "code",
      "execution_count": 20,
      "metadata": {
        "id": "R4YgtaqtYklH"
      },
      "outputs": [
        {
          "name": "stderr",
          "output_type": "stream",
          "text": [
            "C:\\Users\\shrut\\AppData\\Local\\Temp\\ipykernel_17488\\211174261.py:23: FutureWarning: \n",
            "\n",
            "Passing `palette` without assigning `hue` is deprecated and will be removed in v0.14.0. Assign the `x` variable to `hue` and set `legend=False` for the same effect.\n",
            "\n",
            "  sns.countplot(data=df, x='Gender_cleaned', palette='Set2')\n"
          ]
        },
        {
          "data": {
            "image/png": "[encoded data removed]",
            "text/plain": [
              "<Figure size 600x400 with 1 Axes>"
            ]
          },
          "metadata": {},
          "output_type": "display_data"
        }
      ],
      "source": [
        "# Chart - 2 visualization code\n",
        "#Gender Distribution\n",
        "# Step 1: Clean and Group Gender Column\n",
        "def clean_gender(gender):\n",
        "    gender = str(gender).lower().strip()\n",
        "    if gender in ['male', 'm', 'man', 'cis male', 'cis man']:\n",
        "        return 'Male'\n",
        "    elif gender in ['female', 'f', 'woman', 'cis female', 'cis-female/femme']:\n",
        "        return 'Female'\n",
        "    elif gender in ['non-binary', 'genderqueer', 'agender', 'trans-female', 'trans male', 'transgender', \n",
        "                    'other', 'fluid', 'androgynous', 'gender fluid', 'queer', 'something kinda male?']:\n",
        "        return 'Non-binary/Other'\n",
        "    else:\n",
        "        return 'Unknown'\n",
        "\n",
        "df['Gender_cleaned'] = df['Gender'].apply(clean_gender)\n",
        "\n",
        "# Step 2: Now plot the cleaned version\n",
        "import seaborn as sns\n",
        "import matplotlib.pyplot as plt\n",
        "\n",
        "plt.figure(figsize=(6, 4))\n",
        "sns.countplot(data=df, x='Gender_cleaned', palette='Set2')\n",
        "plt.title(\"Cleaned Gender Distribution\")\n",
        "plt.xlabel(\"Gender\")\n",
        "plt.ylabel(\"Number of Respondents\")\n",
        "plt.tight_layout()\n",
        "plt.show()\n"
      ]
    },
    {
      "cell_type": "markdown",
      "metadata": {
        "id": "t6dVpIINYklI"
      },
      "source": [
        "##### 1. Why did you pick the specific chart?"
      ]
    },
    {
      "cell_type": "markdown",
      "metadata": {
        "id": "5aaW0BYyYklI"
      },
      "source": [
        "Answer Here: We used a bar chart to show the distribution of gender in the dataset.\n",
        "Since gender values were written in many different ways, we first cleaned and grouped them into categories like Male, Female, and Non-binary/Other.\n",
        "A bar chart is the best way to compare how many people belong to each group.\n",
        "It gives a quick visual of which gender is most represented in the data.\n",
        "This helps us understand if the responses are balanced or biased toward one group.\n",
        "It’s useful for making sure the analysis is inclusive and fair.\n",
        "\n"
      ]
    },
    {
      "cell_type": "markdown",
      "metadata": {
        "id": "ijmpgYnKYklI"
      },
      "source": [
        "##### 2. What is/are the insight(s) found from the chart?"
      ]
    },
    {
      "cell_type": "markdown",
      "metadata": {
        "id": "PSx9atu2YklI"
      },
      "source": [
        "Answer Here : Most of the survey responses are from male participants, showing that men are the dominant group in this dataset.\n",
        "\n",
        "Female participants are much fewer, which might affect how balanced or fair the overall analysis is.\n",
        "\n",
        "Very few people identified as non-binary or other gender identities, which shows limited gender diversity in the data.\n",
        "\n",
        "This imbalance suggests that the mental health experiences in the tech industry might be more reflective of male perspectives.\n",
        "\n",
        "If we want a more inclusive analysis in the future, we should aim to collect more responses from diverse gender identities."
      ]
    },
    {
      "cell_type": "markdown",
      "metadata": {
        "id": "-JiQyfWJYklI"
      },
      "source": [
        "##### 3. Will the gained insights help creating a positive business impact?\n",
        "Are there any insights that lead to negative growth? Justify with specific reason."
      ]
    },
    {
      "cell_type": "markdown",
      "metadata": {
        "id": "BcBbebzrYklV"
      },
      "source": [
        "Answer Here : These insights help businesses recognize gaps in gender representation and take steps toward creating a more inclusive, supportive, and mentally healthy workplace for all employees."
      ]
    },
    {
      "cell_type": "markdown",
      "metadata": {
        "id": "EM7whBJCYoAo"
      },
      "source": [
        "#### Chart - 3"
      ]
    },
    {
      "cell_type": "code",
      "execution_count": null,
      "metadata": {
        "id": "t6GMdE67YoAp"
      },
      "outputs": [
        {
          "name": "stderr",
          "output_type": "stream",
          "text": [
            "C:\\Users\\shrut\\AppData\\Local\\Temp\\ipykernel_17488\\1563955639.py:3: FutureWarning: \n",
            "\n",
            "Passing `palette` without assigning `hue` is deprecated and will be removed in v0.14.0. Assign the `x` variable to `hue` and set `legend=False` for the same effect.\n",
            "\n",
            "  sns.countplot(data=df, x='work_interfere', palette='magma', order=['Never', 'Rarely', 'Sometimes', 'Often'])\n"
          ]
        },
        {
          "data": {
            "image/png": "[encoded data removed]",
            "text/plain": [
              "<Figure size 600x400 with 1 Axes>"
            ]
          },
          "metadata": {},
          "output_type": "display_data"
        }
      ],
      "source": [
        "# Chart - Mental Health Interference with Work\n",
        "plt.figure(figsize=(6, 4))\n",
        "sns.countplot(data=df, x='work_interfere', palette='magma', order=['Never', 'Rarely', 'Sometimes', 'Often'])\n",
        "plt.title(\"Mental Health Interference With Work\")\n",
        "plt.xlabel(\"Work Interference\")\n",
        "plt.ylabel(\"Number of Respondents\")\n",
        "plt.tight_layout()\n",
        "plt.show()\n"
      ]
    },
    {
      "cell_type": "markdown",
      "metadata": {
        "id": "fge-S5ZAYoAp"
      },
      "source": [
        "##### 1. Why did you pick the specific chart?"
      ]
    },
    {
      "cell_type": "markdown",
      "metadata": {
        "id": "5dBItgRVYoAp"
      },
      "source": [
        "Answer Here: We used a bar chart to show how often people say their mental health interferes with their work.\n",
        "\n",
        "The reason for choosing this chart is:\n",
        "\n",
        "The work_interfere column has categorical values like \"Never\", \"Rarely\", \"Sometimes\", and \"Often\".\n",
        "\n",
        "A bar chart makes it easy to see and compare how many people fall into each group.\n",
        "\n",
        "It helps us understand the impact of mental health on work performance."
      ]
    },
    {
      "cell_type": "markdown",
      "metadata": {
        "id": "85gYPyotYoAp"
      },
      "source": [
        "##### 2. What is/are the insight(s) found from the chart?"
      ]
    },
    {
      "cell_type": "markdown",
      "metadata": {
        "id": "4jstXR6OYoAp"
      },
      "source": [
        "Answer Here : Most people said that mental health interferes with their work “Sometimes” or “Often”.\n",
        "\n",
        "Very few respondents said “Never”, which shows that mental health struggles are common at work.\n",
        "\n",
        "This highlights that many employees are affected emotionally or mentally, which can reduce focus and productivity.\n",
        "\n",
        "It also shows that support systems at work might be lacking or not accessible for everyone.\n",
        "\n"
      ]
    },
    {
      "cell_type": "markdown",
      "metadata": {
        "id": "RoGjAbkUYoAp"
      },
      "source": [
        "##### 3. Will the gained insights help creating a positive business impact?\n",
        "Are there any insights that lead to negative growth? Justify with specific reason."
      ]
    },
    {
      "cell_type": "markdown",
      "metadata": {
        "id": "zfJ8IqMcYoAp"
      },
      "source": [
        "Answer Here : These insights help companies realize how mental health affects employee performance.\n",
        "\n",
        "It shows the need for better mental health support, such as:\n",
        "\n",
        "Therapy access\n",
        "\n",
        "Flexible work hours\n",
        "\n",
        "Safe space to talk\n",
        "\n",
        "By taking action, businesses can improve employee well-being, performance, and retention."
      ]
    },
    {
      "cell_type": "markdown",
      "metadata": {
        "id": "4Of9eVA-YrdM"
      },
      "source": [
        "#### Chart - 4"
      ]
    },
    {
      "cell_type": "code",
      "execution_count": 22,
      "metadata": {
        "id": "irlUoxc8YrdO"
      },
      "outputs": [
        {
          "data": {
            "image/png": "[encoded data removed]",
            "text/plain": [
              "<Figure size 600x400 with 1 Axes>"
            ]
          },
          "metadata": {},
          "output_type": "display_data"
        }
      ],
      "source": [
        "# Chart - Remote Work vs Treatment Seeking\n",
        "plt.figure(figsize=(6, 4))\n",
        "sns.countplot(data=df, x='remote_work', hue='treatment', palette='Set1')\n",
        "plt.title(\"Remote Work vs Treatment Seeking\")\n",
        "plt.xlabel(\"Remote Work\")\n",
        "plt.ylabel(\"Count\")\n",
        "plt.tight_layout()\n",
        "plt.show()\n"
      ]
    },
    {
      "cell_type": "markdown",
      "metadata": {
        "id": "iky9q4vBYrdO"
      },
      "source": [
        "##### 1. Why did you pick the specific chart?"
      ]
    },
    {
      "cell_type": "markdown",
      "metadata": {
        "id": "aJRCwT6DYrdO"
      },
      "source": [
        "Answer Here: I chose a grouped bar chart to compare how many people working remotely vs. not have taken mental health treatment.\n",
        "\n",
        "The chart uses two categorical variables: remote_work (Yes/No) and treatment (Yes/No), which makes this kind of chart the best fit.\n",
        "\n",
        "It helps us clearly see if remote workers are more comfortable seeking help compared to those working on-site."
      ]
    },
    {
      "cell_type": "markdown",
      "metadata": {
        "id": "F6T5p64dYrdO"
      },
      "source": [
        "##### 2. What is/are the insight(s) found from the chart?"
      ]
    },
    {
      "cell_type": "markdown",
      "metadata": {
        "id": "Xx8WAJvtYrdO"
      },
      "source": [
        "Answer Here: People who work remotely seem to have a slightly higher rate of seeking treatment.\n",
        "Those who don’t work remotely might be facing more barriers, like:\n",
        "\n",
        "Less privacy,\n",
        "Office stress,\n",
        "Fear of judgment or stigma\n",
        "\n",
        "This tells us that working remotely could give people more space to care for their mental health.\n",
        "\n"
      ]
    },
    {
      "cell_type": "markdown",
      "metadata": {
        "id": "y-Ehk30pYrdP"
      },
      "source": [
        "##### 3. Will the gained insights help creating a positive business impact?\n",
        "Are there any insights that lead to negative growth? Justify with specific reason."
      ]
    },
    {
      "cell_type": "markdown",
      "metadata": {
        "id": "jLNxxz7MYrdP"
      },
      "source": [
        "Answer Here: These insights suggest that remote work can support mental wellness.\n",
        "\n",
        "Businesses should consider:\n",
        "\n",
        "Offering flexible or hybrid work options\n",
        "\n",
        "Promoting open mental health support, even for on-site employees\n",
        "\n",
        "This helps create a healthier, happier, and more productive workforce.\n",
        "\n"
      ]
    },
    {
      "cell_type": "markdown",
      "metadata": {
        "id": "bamQiAODYuh1"
      },
      "source": [
        "#### Chart - 5"
      ]
    },
    {
      "cell_type": "code",
      "execution_count": 23,
      "metadata": {
        "id": "TIJwrbroYuh3"
      },
      "outputs": [
        {
          "data": {
            "image/png": "[encoded data removed]",
            "text/plain": [
              "<Figure size 600x400 with 1 Axes>"
            ]
          },
          "metadata": {},
          "output_type": "display_data"
        }
      ],
      "source": [
        "# Chart - Tech Company Employees vs Mental Health Treatment \n",
        "plt.figure(figsize=(6, 4))\n",
        "sns.countplot(data=df, x='tech_company', hue='treatment', palette='Set3')\n",
        "plt.title(\"Tech Company Employees & Mental Health Treatment\")\n",
        "plt.xlabel(\"Tech Company\")\n",
        "plt.ylabel(\"Count\")\n",
        "plt.tight_layout()\n",
        "plt.show()\n"
      ]
    },
    {
      "cell_type": "markdown",
      "metadata": {
        "id": "QHF8YVU7Yuh3"
      },
      "source": [
        "##### 1. Why did you pick the specific chart?"
      ]
    },
    {
      "cell_type": "markdown",
      "metadata": {
        "id": "dcxuIMRPYuh3"
      },
      "source": [
        "Answer Here: We used a grouped bar chart to compare mental health treatment responses based on whether someone works in a tech company or not.\n",
        "\n",
        "Since both tech_company and treatment are Yes/No values, this type of chart helps us easily see the difference in behavior between the two groups.\n",
        "It gives a clear picture of how the tech work environment might affect mental health decisions.\n",
        "\n"
      ]
    },
    {
      "cell_type": "markdown",
      "metadata": {
        "id": "GwzvFGzlYuh3"
      },
      "source": [
        "##### 2. What is/are the insight(s) found from the chart?"
      ]
    },
    {
      "cell_type": "markdown",
      "metadata": {
        "id": "uyqkiB8YYuh3"
      },
      "source": [
        "Answer Here: Most of the people in the survey work at tech companies.\n",
        "\n",
        "Among tech workers, half have taken mental health treatment, and half have not.\n",
        "\n",
        "People who don’t work in tech are fewer, but they also show a similar pattern.\n",
        "\n",
        "This means working in tech doesn’t guarantee people will get help some still don’t.\n",
        "\n",
        "It shows that while some are open to treatment, others may still face barriers like fear or lack of support.\n",
        "\n"
      ]
    },
    {
      "cell_type": "markdown",
      "metadata": {
        "id": "qYpmQ266Yuh3"
      },
      "source": [
        "##### 3. Will the gained insights help creating a positive business impact?\n",
        "Are there any insights that lead to negative growth? Justify with specific reason."
      ]
    },
    {
      "cell_type": "markdown",
      "metadata": {
        "id": "_WtzZ_hCYuh4"
      },
      "source": [
        "Answer Here: This chart tells us that not everyone in tech is getting mental health help, even though the numbers are higher.\n",
        "\n",
        "So, companies have a chance to do better by making sure their employees feel safe and supported.\n",
        "\n",
        "If a company gives things like mental health breaks, counseling, or open conversations, more people may come forward and ask for help.\n",
        "\n",
        "This helps employees feel less stressed and more focused, which means better work and fewer people leaving their jobs.\n",
        "\n",
        "Taking care of mental health isn’t just good for people it’s good for the company too.\n",
        "\n"
      ]
    },
    {
      "cell_type": "markdown",
      "metadata": {
        "id": "OH-pJp9IphqM"
      },
      "source": [
        "#### Chart - 6"
      ]
    },
    {
      "cell_type": "code",
      "execution_count": 24,
      "metadata": {
        "id": "kuRf4wtuphqN"
      },
      "outputs": [
        {
          "data": {
            "image/png": "[encoded data removed]",
            "text/plain": [
              "<Figure size 800x500 with 1 Axes>"
            ]
          },
          "metadata": {},
          "output_type": "display_data"
        }
      ],
      "source": [
        "# Chart - Age Distribution of People Seeking Treatment\n",
        "import pandas as pd\n",
        "import seaborn as sns\n",
        "import matplotlib.pyplot as plt\n",
        "\n",
        "# Group ages into bins\n",
        "bins = [17, 25, 35, 45, 55, 65, 100]\n",
        "labels = ['18-25', '26-35', '36-45', '46-55', '56-65', '65+']\n",
        "df['AgeGroup'] = pd.cut(df['Age'], bins=bins, labels=labels)\n",
        "\n",
        "# Create bar plot\n",
        "plt.figure(figsize=(8, 5))\n",
        "sns.countplot(data=df, x='AgeGroup', hue='treatment', palette='Set2')\n",
        "plt.title(\"Age Group vs Mental Health Treatment Seeking\")\n",
        "plt.xlabel(\"Age Group\")\n",
        "plt.ylabel(\"Number of People\")\n",
        "plt.tight_layout()\n",
        "plt.show()"
      ]
    },
    {
      "cell_type": "markdown",
      "metadata": {
        "id": "bbFf2-_FphqN"
      },
      "source": [
        "##### 1. Why did you pick the specific chart?"
      ]
    },
    {
      "cell_type": "markdown",
      "metadata": {
        "id": "loh7H2nzphqN"
      },
      "source": [
        "Answer Here: We chose a bar chart because we wanted to see how different age groups respond when it comes to seeking mental health treatment.\n",
        "\n",
        "The original age values were too scattered, so we grouped them into age ranges like 18–25, 26–35, etc.\n",
        "A bar chart is the best way to compare counts across these groups.\n",
        "With this chart, we can:\n",
        "Easily compare treatment behavior between age groups\n",
        "\n",
        "Spot which age group is most likely to seek help\n",
        "\n",
        "Understand if younger or older people are more open to mental health support\n",
        "\n",
        "It makes the data easier to read and helps us get clear, visual insights about treatment patterns across ages."
      ]
    },
    {
      "cell_type": "markdown",
      "metadata": {
        "id": "_ouA3fa0phqN"
      },
      "source": [
        "##### 2. What is/are the insight(s) found from the chart?"
      ]
    },
    {
      "cell_type": "markdown",
      "metadata": {
        "id": "VECbqPI7phqN"
      },
      "source": [
        "Answer Here : Most people who took mental health treatment are between 26 to 35 years old.\n",
        "This shows that people in this age group are more open and comfortable getting help.\n",
        "\n",
        "The 18 to 25 age group also takes treatment, but not as much as the 26–35 group.\n",
        "Maybe because they are just starting their careers and might feel less pressure.\n",
        "\n",
        "Older age groups, like 46 and above, are less likely to take treatment.\n",
        "This could be because of less awareness, fear of judgment, or simply fewer older people in the survey.\n",
        "\n",
        "Overall, younger employees are more open to mental health support, while older ones might still be holding back.\n",
        "\n"
      ]
    },
    {
      "cell_type": "markdown",
      "metadata": {
        "id": "Seke61FWphqN"
      },
      "source": [
        "##### 3. Will the gained insights help creating a positive business impact?\n",
        "Are there any insights that lead to negative growth? Justify with specific reason."
      ]
    },
    {
      "cell_type": "markdown",
      "metadata": {
        "id": "DW4_bGpfphqN"
      },
      "source": [
        "Answer Here: This chart helps companies see which age groups are more likely to seek mental health support.\n",
        "Younger employees (especially 26–35) are more open to getting help, so support programs should continue for them.\n",
        "Older employees are less likely to seek treatment, possibly due to stigma or lack of awareness.\n",
        "Businesses can offer private counseling, awareness sessions, or flexible support for older age groups.\n",
        "Supporting all age groups builds a healthier, more trusting workplace.\n",
        "This leads to happier employees, better performance, and lower turnover."
      ]
    },
    {
      "cell_type": "markdown",
      "metadata": {
        "id": "PIIx-8_IphqN"
      },
      "source": [
        "#### Chart - 7"
      ]
    },
    {
      "cell_type": "code",
      "execution_count": 266,
      "metadata": {
        "id": "lqAIGUfyphqO"
      },
      "outputs": [
        {
          "data": {
            "image/png": "[encoded data removed]",
            "text/plain": [
              "<Figure size 800x500 with 1 Axes>"
            ]
          },
          "metadata": {},
          "output_type": "display_data"
        }
      ],
      "source": [
        "# Chart - 7 visualization code\n",
        "plt.figure(figsize=(8, 5))\n",
        "sns.countplot(data=df, x='no_employees', hue='benefits', palette='viridis')\n",
        "plt.title(\"Company Size vs Mental Health Benefits Offered\")\n",
        "plt.xlabel(\"Number of Employees\")\n",
        "plt.ylabel(\"Count\")\n",
        "plt.xticks(rotation=45)\n",
        "plt.tight_layout()\n",
        "plt.show()\n"
      ]
    },
    {
      "cell_type": "markdown",
      "metadata": {
        "id": "t27r6nlMphqO"
      },
      "source": [
        "##### 1. Why did you pick the specific chart?"
      ]
    },
    {
      "cell_type": "markdown",
      "metadata": {
        "id": "iv6ro40sphqO"
      },
      "source": [
        "Answer Here: I chose this grouped bar chart because it clearly shows how company size affects whether employees are given mental health benefits.\n",
        "Each bar group tells us how many people in different-sized companies said Yes, No, or Don’t know to having these benefits.\n",
        "This chart helps us easily compare if bigger companies care more about mental health than smaller ones and how aware employees are of these supports.\n",
        "\n"
      ]
    },
    {
      "cell_type": "markdown",
      "metadata": {
        "id": "r2jJGEOYphqO"
      },
      "source": [
        "##### 2. What is/are the insight(s) found from the chart?"
      ]
    },
    {
      "cell_type": "markdown",
      "metadata": {
        "id": "Po6ZPi4hphqO"
      },
      "source": [
        "Answer Here: Large companies (1000+ employees) are doing a great job — most of their workers said “Yes” to having mental health benefits.\n",
        "\n",
        "Very small companies (1–5, 6–25 employees) mostly said “No”, meaning they don’t offer such support.\n",
        "\n",
        "In many smaller and mid-sized companies, a lot of employees chose “Don’t know”, which shows a lack of communication or unclear policies.\n",
        "\n",
        "As company size grows, the chance of having clear mental health support increases.\n",
        "\n",
        "Lack of awareness is a real issue some people might have support but don’t know about it.\n",
        "\n"
      ]
    },
    {
      "cell_type": "markdown",
      "metadata": {
        "id": "b0JNsNcRphqO"
      },
      "source": [
        "##### 3. Will the gained insights help creating a positive business impact?\n",
        "Are there any insights that lead to negative growth? Justify with specific reason."
      ]
    },
    {
      "cell_type": "markdown",
      "metadata": {
        "id": "xvSq8iUTphqO"
      },
      "source": [
        "Answer Here : Big companies (1000+ employees) are more likely to offer mental health benefits to their staff.\n",
        "Smaller companies (especially 1–25 employees) often don’t provide these benefits.\n",
        "Many people in small and mid-sized companies don’t even know if benefits exist showing poor communication.\n",
        "This means awareness and transparency about mental health support is still lacking.\n",
        "Small companies can improve by offering basic support and clearly informing employees.\n",
        "Doing this builds a healthier, more positive work environment where people feel safe and valued.\n",
        "\n"
      ]
    },
    {
      "cell_type": "markdown",
      "metadata": {
        "id": "BZR9WyysphqO"
      },
      "source": [
        "#### Chart - 8"
      ]
    },
    {
      "cell_type": "code",
      "execution_count": 267,
      "metadata": {
        "id": "TdPTWpAVphqO"
      },
      "outputs": [
        {
          "name": "stderr",
          "output_type": "stream",
          "text": [
            "C:\\Users\\shrut\\AppData\\Local\\Temp\\ipykernel_17488\\857734779.py:3: FutureWarning: \n",
            "\n",
            "Passing `palette` without assigning `hue` is deprecated and will be removed in v0.14.0. Assign the `x` variable to `hue` and set `legend=False` for the same effect.\n",
            "\n",
            "  sns.countplot(data=df, x='mental_health_consequence', palette='Set2')\n"
          ]
        },
        {
          "data": {
            "image/png": "[encoded data removed]",
            "text/plain": [
              "<Figure size 600x400 with 1 Axes>"
            ]
          },
          "metadata": {},
          "output_type": "display_data"
        }
      ],
      "source": [
        "# Chart - Discussing Mental Health at Work (Comfort Level)\n",
        "plt.figure(figsize=(6, 4))\n",
        "sns.countplot(data=df, x='mental_health_consequence', palette='Set2')\n",
        "plt.title(\"Do Employees Fear Consequences of Mental Health Disclosure?\")\n",
        "plt.xlabel(\"Fear of Consequences\")\n",
        "plt.ylabel(\"Count\")\n",
        "plt.tight_layout()\n",
        "plt.show()\n"
      ]
    },
    {
      "cell_type": "markdown",
      "metadata": {
        "id": "jj7wYXLtphqO"
      },
      "source": [
        "##### 1. Why did you pick the specific chart?"
      ]
    },
    {
      "cell_type": "markdown",
      "metadata": {
        "id": "Ob8u6rCTphqO"
      },
      "source": [
        "Answer Here: because it shows whether employees feel afraid of negative consequences (like losing their job or being judged) if they speak openly about mental health at work.\n",
        "A simple bar chart is the best way to visualize and compare the number of people who said Yes, No, or Maybe/Unsure.\n",
        "It helps us understand the comfort level and openness of workplace environments."
      ]
    },
    {
      "cell_type": "markdown",
      "metadata": {
        "id": "eZrbJ2SmphqO"
      },
      "source": [
        "##### 2. What is/are the insight(s) found from the chart?"
      ]
    },
    {
      "cell_type": "markdown",
      "metadata": {
        "id": "mZtgC_hjphqO"
      },
      "source": [
        "Answer Here : A large number of people responded \"Yes\" meaning they do fear consequences if they talk about their mental health.\n",
        "\n",
        "Some said \"No\", which means they feel safe to talk about it at work.\n",
        "\n",
        "A big portion also said \"Maybe\" showing confusion, doubt, or lack of trust in their company.\n",
        "\n",
        "This suggests that many workplaces still carry stigma around mental health and need improvement in openness.\n",
        "\n"
      ]
    },
    {
      "cell_type": "markdown",
      "metadata": {
        "id": "rFu4xreNphqO"
      },
      "source": [
        "##### 3. Will the gained insights help creating a positive business impact?\n",
        "Are there any insights that lead to negative growth? Justify with specific reason."
      ]
    },
    {
      "cell_type": "markdown",
      "metadata": {
        "id": "ey_0qi68phqO"
      },
      "source": [
        "Answer Here: This chart shows that many employees are afraid to speak up about their mental health at work.\n",
        "If companies understand this, they can create a safer and more open culture.\n",
        "By offering things like confidential counseling, mental health policies, and supportive managers, employees will feel more comfortable and less stressed.\n",
        "When people know they won't be judged or punished, they are more likely to get help early, stay focused, and do better work.\n",
        "It also helps build trust between employees and management, which means fewer people will leave the job.\n",
        "In short, supporting mental health creates a stronger, happier, and more loyal team."
      ]
    },
    {
      "cell_type": "markdown",
      "metadata": {
        "id": "YJ55k-q6phqO"
      },
      "source": [
        "#### Chart"
      ]
    },
    {
      "cell_type": "markdown",
      "metadata": {
        "id": "B2aS4O1ophqO"
      },
      "source": [
        "This survey shows that mental health is becoming more important in tech jobs, but many people still feel scared to talk about it.\n",
        "Younger employees are more open to getting help, but some older workers still stay silent — maybe because of stigma or fear.\n",
        "Big tech companies are doing better by offering mental health support, but smaller companies are often missing it or not talking about it clearly.\n",
        "A lot of employees don’t even know if their company has mental health support — which means more awareness is needed.\n",
        "To fix this, companies should offer counseling, be open about mental health, and make sure no one feels judged.\n",
        "When employees feel safe and supported, they stay happy, focused, and more loyal to the company.\n",
        "\n",
        "\n"
      ]
    },
    {
      "cell_type": "markdown",
      "metadata": {
        "id": "gCFgpxoyphqP"
      },
      "source": [
        "##### 1. Why did you pick the specific chart?"
      ]
    },
    {
      "cell_type": "markdown",
      "metadata": {
        "id": "TVxDimi2phqP"
      },
      "source": [
        "Answer Here."
      ]
    },
    {
      "cell_type": "markdown",
      "metadata": {
        "id": "OVtJsKN_phqQ"
      },
      "source": [
        "##### 2. What is/are the insight(s) found from the chart?"
      ]
    },
    {
      "cell_type": "markdown",
      "metadata": {
        "id": "ngGi97qjphqQ"
      },
      "source": [
        "Answer Here"
      ]
    },
    {
      "cell_type": "markdown",
      "metadata": {
        "id": "lssrdh5qphqQ"
      },
      "source": [
        "##### 3. Will the gained insights help creating a positive business impact?\n",
        "Are there any insights that lead to negative growth? Justify with specific reason."
      ]
    },
    {
      "cell_type": "markdown",
      "metadata": {
        "id": "tBpY5ekJphqQ"
      },
      "source": [
        "Answer Here"
      ]
    },
    {
      "cell_type": "markdown",
      "metadata": {
        "id": "U2RJ9gkRphqQ"
      },
      "source": [
        "#### Chart - 10"
      ]
    },
    {
      "cell_type": "code",
      "execution_count": 269,
      "metadata": {
        "id": "GM7a4YP4phqQ"
      },
      "outputs": [],
      "source": [
        "# Chart - 10 visualization code"
      ]
    },
    {
      "cell_type": "markdown",
      "metadata": {
        "id": "1M8mcRywphqQ"
      },
      "source": [
        "##### 1. Why did you pick the specific chart?"
      ]
    },
    {
      "cell_type": "markdown",
      "metadata": {
        "id": "8agQvks0phqQ"
      },
      "source": [
        "Answer Here."
      ]
    },
    {
      "cell_type": "markdown",
      "metadata": {
        "id": "tgIPom80phqQ"
      },
      "source": [
        "##### 2. What is/are the insight(s) found from the chart?"
      ]
    },
    {
      "cell_type": "markdown",
      "metadata": {
        "id": "Qp13pnNzphqQ"
      },
      "source": [
        "Answer Here"
      ]
    },
    {
      "cell_type": "markdown",
      "metadata": {
        "id": "JMzcOPDDphqR"
      },
      "source": [
        "##### 3. Will the gained insights help creating a positive business impact?\n",
        "Are there any insights that lead to negative growth? Justify with specific reason."
      ]
    },
    {
      "cell_type": "markdown",
      "metadata": {
        "id": "R4Ka1PC2phqR"
      },
      "source": [
        "Answer Here"
      ]
    },
    {
      "cell_type": "markdown",
      "metadata": {
        "id": "x-EpHcCOp1ci"
      },
      "source": [
        "#### Chart - 11"
      ]
    },
    {
      "cell_type": "code",
      "execution_count": 270,
      "metadata": {
        "id": "mAQTIvtqp1cj"
      },
      "outputs": [],
      "source": [
        "# Chart - 11 visualization code"
      ]
    },
    {
      "cell_type": "markdown",
      "metadata": {
        "id": "X_VqEhTip1ck"
      },
      "source": [
        "##### 1. Why did you pick the specific chart?"
      ]
    },
    {
      "cell_type": "markdown",
      "metadata": {
        "id": "-vsMzt_np1ck"
      },
      "source": [
        "Answer Here."
      ]
    },
    {
      "cell_type": "markdown",
      "metadata": {
        "id": "8zGJKyg5p1ck"
      },
      "source": [
        "##### 2. What is/are the insight(s) found from the chart?"
      ]
    },
    {
      "cell_type": "markdown",
      "metadata": {
        "id": "ZYdMsrqVp1ck"
      },
      "source": [
        "Answer Here"
      ]
    },
    {
      "cell_type": "markdown",
      "metadata": {
        "id": "PVzmfK_Ep1ck"
      },
      "source": [
        "##### 3. Will the gained insights help creating a positive business impact?\n",
        "Are there any insights that lead to negative growth? Justify with specific reason."
      ]
    },
    {
      "cell_type": "markdown",
      "metadata": {
        "id": "druuKYZpp1ck"
      },
      "source": [
        "Answer Here"
      ]
    },
    {
      "cell_type": "markdown",
      "metadata": {
        "id": "n3dbpmDWp1ck"
      },
      "source": [
        "#### Chart - 12"
      ]
    },
    {
      "cell_type": "code",
      "execution_count": 271,
      "metadata": {
        "id": "bwevp1tKp1ck"
      },
      "outputs": [],
      "source": [
        "# Chart - 12 visualization code"
      ]
    },
    {
      "cell_type": "markdown",
      "metadata": {
        "id": "ylSl6qgtp1ck"
      },
      "source": [
        "##### 1. Why did you pick the specific chart?"
      ]
    },
    {
      "cell_type": "markdown",
      "metadata": {
        "id": "m2xqNkiQp1ck"
      },
      "source": [
        "Answer Here."
      ]
    },
    {
      "cell_type": "markdown",
      "metadata": {
        "id": "ZWILFDl5p1ck"
      },
      "source": [
        "##### 2. What is/are the insight(s) found from the chart?"
      ]
    },
    {
      "cell_type": "markdown",
      "metadata": {
        "id": "x-lUsV2mp1ck"
      },
      "source": [
        "Answer Here"
      ]
    },
    {
      "cell_type": "markdown",
      "metadata": {
        "id": "M7G43BXep1ck"
      },
      "source": [
        "##### 3. Will the gained insights help creating a positive business impact?\n",
        "Are there any insights that lead to negative growth? Justify with specific reason."
      ]
    },
    {
      "cell_type": "markdown",
      "metadata": {
        "id": "5wwDJXsLp1cl"
      },
      "source": [
        "Answer Here"
      ]
    },
    {
      "cell_type": "markdown",
      "metadata": {
        "id": "Ag9LCva-p1cl"
      },
      "source": [
        "#### Chart - 13"
      ]
    },
    {
      "cell_type": "code",
      "execution_count": 272,
      "metadata": {
        "id": "EUfxeq9-p1cl"
      },
      "outputs": [],
      "source": [
        "# Chart - 13 visualization code"
      ]
    },
    {
      "cell_type": "markdown",
      "metadata": {
        "id": "E6MkPsBcp1cl"
      },
      "source": [
        "##### 1. Why did you pick the specific chart?"
      ]
    },
    {
      "cell_type": "markdown",
      "metadata": {
        "id": "V22bRsFWp1cl"
      },
      "source": [
        "Answer Here."
      ]
    },
    {
      "cell_type": "markdown",
      "metadata": {
        "id": "2cELzS2fp1cl"
      },
      "source": [
        "##### 2. What is/are the insight(s) found from the chart?"
      ]
    },
    {
      "cell_type": "markdown",
      "metadata": {
        "id": "ozQPc2_Ip1cl"
      },
      "source": [
        "Answer Here"
      ]
    },
    {
      "cell_type": "markdown",
      "metadata": {
        "id": "3MPXvC8up1cl"
      },
      "source": [
        "##### 3. Will the gained insights help creating a positive business impact?\n",
        "Are there any insights that lead to negative growth? Justify with specific reason."
      ]
    },
    {
      "cell_type": "markdown",
      "metadata": {
        "id": "GL8l1tdLp1cl"
      },
      "source": [
        "Answer Here"
      ]
    },
    {
      "cell_type": "markdown",
      "metadata": {
        "id": "NC_X3p0fY2L0"
      },
      "source": [
        "#### Chart - 14 - Correlation Heatmap"
      ]
    },
    {
      "cell_type": "code",
      "execution_count": 273,
      "metadata": {
        "id": "xyC9zolEZNRQ"
      },
      "outputs": [],
      "source": [
        "# Correlation Heatmap visualization code"
      ]
    },
    {
      "cell_type": "markdown",
      "metadata": {
        "id": "UV0SzAkaZNRQ"
      },
      "source": [
        "##### 1. Why did you pick the specific chart?"
      ]
    },
    {
      "cell_type": "markdown",
      "metadata": {
        "id": "DVPuT8LYZNRQ"
      },
      "source": [
        "Answer Here."
      ]
    },
    {
      "cell_type": "markdown",
      "metadata": {
        "id": "YPEH6qLeZNRQ"
      },
      "source": [
        "##### 2. What is/are the insight(s) found from the chart?"
      ]
    },
    {
      "cell_type": "markdown",
      "metadata": {
        "id": "bfSqtnDqZNRR"
      },
      "source": [
        "Answer Here"
      ]
    },
    {
      "cell_type": "markdown",
      "metadata": {
        "id": "q29F0dvdveiT"
      },
      "source": [
        "#### Chart - 15 - Pair Plot"
      ]
    },
    {
      "cell_type": "code",
      "execution_count": 274,
      "metadata": {
        "id": "o58-TEIhveiU"
      },
      "outputs": [],
      "source": [
        "# Pair Plot visualization code"
      ]
    },
    {
      "cell_type": "markdown",
      "metadata": {
        "id": "EXh0U9oCveiU"
      },
      "source": [
        "##### 1. Why did you pick the specific chart?"
      ]
    },
    {
      "cell_type": "markdown",
      "metadata": {
        "id": "eMmPjTByveiU"
      },
      "source": [
        "Answer Here."
      ]
    },
    {
      "cell_type": "markdown",
      "metadata": {
        "id": "22aHeOlLveiV"
      },
      "source": [
        "##### 2. What is/are the insight(s) found from the chart?"
      ]
    },
    {
      "cell_type": "markdown",
      "metadata": {
        "id": "uPQ8RGwHveiV"
      },
      "source": [
        "Answer Here"
      ]
    },
    {
      "cell_type": "markdown",
      "metadata": {
        "id": "JcMwzZxoAimU"
      },
      "source": [
        "## **5. Solution to Business Objective**"
      ]
    },
    {
      "cell_type": "markdown",
      "metadata": {
        "id": "8G2x9gOozGDZ"
      },
      "source": [
        "#### What do you suggest the client to achieve Business Objective ?\n",
        "Explain Briefly:\n",
        "To achieve the business objective of building a healthier and more productive workplace, I suggest the client:\n",
        "\n",
        "Create a clear mental health support system — like counseling, mental health leaves, and wellness programs.\n",
        "\n",
        "Train managers to handle mental health conversations with care and without judgment.\n",
        "\n",
        "Improve internal communication, so all employees know what help is available.\n",
        "\n",
        "Encourage a culture where talking about mental health is normal, safe, and stigma-free.\n",
        "\n",
        "When employees feel mentally supported, they work better, stay longer, and help the company grow stronger."
      ]
    },
    {
      "cell_type": "markdown",
      "metadata": {
        "id": "pASKb0qOza21"
      },
      "source": [
        "Answer Here: Based on the data, it’s clear that many employees still feel uncomfortable talking about mental health at work. To improve this, the company should focus on building a culture where people feel safe, heard, and supported.\n",
        "\n",
        "They can start by offering mental health support like counseling or flexible leave. It’s also important to communicate clearly so that every employee knows what help is available. Managers should be trained to handle mental health conversations with empathy and without judgment.\n",
        "\n",
        "By taking these steps, the company can create a more open, healthy, and positive workplace where employees feel confident, perform better, and stay longer."
      ]
    },
    {
      "cell_type": "markdown",
      "metadata": {
        "id": "gCX9965dhzqZ"
      },
      "source": [
        "# **Conclusion**"
      ]
    },
    {
      "cell_type": "markdown",
      "metadata": {
        "id": "Fjb1IsQkh3yE"
      },
      "source": [
        "This survey shows that mental health is becoming more important in tech jobs, but many people still feel scared to talk about it.\n",
        "Younger employees are more open to getting help, but some older workers still stay silent  maybe because of stigma or fear.\n",
        "Big tech companies are doing better by offering mental health support, but smaller companies are often missing it or not talking about it clearly.\n",
        "A lot of employees don’t even know if their company has mental health support which means more awareness is needed.\n",
        "To fix this, companies should offer counseling, be open about mental health, and make sure no one feels judged.\n",
        "When employees feel safe and supported, they stay happy, focused, and more loyal to the company."
      ]
    },
    {
      "cell_type": "markdown",
      "metadata": {
        "id": "gIfDvo9L0UH2"
      },
      "source": [
        "### ***Hurrah! You have successfully completed your EDA Capstone Project !!!***"
      ]
    },
    {
      "cell_type": "code",
      "execution_count": null,
      "metadata": {
        "id": "dYX880etpL0x"
      },
      "outputs": [],
      "source": []
    },
    {
      "cell_type": "code",
      "execution_count": null,
      "metadata": {
        "id": "-6Vl263upPVI"
      },
      "outputs": [],
      "source": []
    }
  ],
  "metadata": {
    "colab": {
      "collapsed_sections": [
        "vncDsAP0Gaoa",
        "FJNUwmbgGyua",
        "w6K7xa23Elo4",
        "yQaldy8SH6Dl",
        "PH-0ReGfmX4f",
        "mDgbUHAGgjLW",
        "O_i_v8NEhb9l",
        "HhfV-JJviCcP",
        "Y3lxredqlCYt",
        "3RnN4peoiCZX",
        "x71ZqKXriCWQ",
        "7hBIi_osiCS2",
        "JlHwYmJAmNHm",
        "35m5QtbWiB9F",
        "PoPl-ycgm1ru",
        "H0kj-8xxnORC",
        "nA9Y7ga8ng1Z",
        "PBTbrJXOngz2",
        "u3PMJOP6ngxN",
        "dauF4eBmngu3",
        "bKJF3rekwFvQ",
        "MSa1f5Uengrz",
        "GF8Ens_Soomf",
        "0wOQAZs5pc--",
        "K5QZ13OEpz2H",
        "lQ7QKXXCp7Bj",
        "448CDAPjqfQr",
        "KSlN3yHqYklG",
        "t6dVpIINYklI",
        "ijmpgYnKYklI",
        "-JiQyfWJYklI",
        "EM7whBJCYoAo",
        "fge-S5ZAYoAp",
        "85gYPyotYoAp",
        "RoGjAbkUYoAp",
        "4Of9eVA-YrdM",
        "iky9q4vBYrdO",
        "F6T5p64dYrdO",
        "y-Ehk30pYrdP",
        "bamQiAODYuh1",
        "QHF8YVU7Yuh3",
        "GwzvFGzlYuh3",
        "qYpmQ266Yuh3",
        "OH-pJp9IphqM",
        "bbFf2-_FphqN",
        "_ouA3fa0phqN",
        "Seke61FWphqN",
        "PIIx-8_IphqN",
        "t27r6nlMphqO",
        "r2jJGEOYphqO",
        "b0JNsNcRphqO",
        "BZR9WyysphqO",
        "jj7wYXLtphqO",
        "eZrbJ2SmphqO",
        "rFu4xreNphqO",
        "YJ55k-q6phqO",
        "gCFgpxoyphqP",
        "OVtJsKN_phqQ",
        "lssrdh5qphqQ",
        "U2RJ9gkRphqQ",
        "1M8mcRywphqQ",
        "tgIPom80phqQ",
        "JMzcOPDDphqR",
        "x-EpHcCOp1ci",
        "X_VqEhTip1ck",
        "8zGJKyg5p1ck",
        "PVzmfK_Ep1ck",
        "n3dbpmDWp1ck",
        "ylSl6qgtp1ck",
        "ZWILFDl5p1ck",
        "M7G43BXep1ck",
        "Ag9LCva-p1cl",
        "E6MkPsBcp1cl",
        "2cELzS2fp1cl",
        "3MPXvC8up1cl",
        "NC_X3p0fY2L0",
        "UV0SzAkaZNRQ",
        "YPEH6qLeZNRQ",
        "q29F0dvdveiT",
        "EXh0U9oCveiU",
        "22aHeOlLveiV",
        "JcMwzZxoAimU",
        "8G2x9gOozGDZ",
        "gCX9965dhzqZ",
        "gIfDvo9L0UH2"
      ],
      "private_outputs": true,
      "provenance": []
    },
    "kernelspec": {
      "display_name": "Python 3",
      "name": "python3"
    },
    "language_info": {
      "codemirror_mode": {
        "name": "ipython",
        "version": 3
      },
      "file_extension": ".py",
      "mimetype": "text/x-python",
      "name": "python",
      "nbconvert_exporter": "python",
      "pygments_lexer": "ipython3",
      "version": "3.13.4"
    }
  },
  "nbformat": 4,
  "nbformat_minor": 0
}
